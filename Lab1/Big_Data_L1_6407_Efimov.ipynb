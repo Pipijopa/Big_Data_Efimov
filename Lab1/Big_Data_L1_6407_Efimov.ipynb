{
  "cells": [
    {
      "cell_type": "code",
      "execution_count": 19,
      "id": "3457eae2-a9f8-410e-a235-fd88ac9f7522",
      "metadata": {
        "colab": {
          "base_uri": "https://localhost:8080/"
        },
        "id": "3457eae2-a9f8-410e-a235-fd88ac9f7522",
        "outputId": "023bab30-621c-44c3-f21d-2af818ed73ce"
      },
      "outputs": [
        {
          "output_type": "stream",
          "name": "stdout",
          "text": [
            "Requirement already satisfied: pyspark==3.0.0 in /usr/local/lib/python3.10/dist-packages (3.0.0)\n",
            "Requirement already satisfied: py4j==0.10.9 in /usr/local/lib/python3.10/dist-packages (from pyspark==3.0.0) (0.10.9)\n"
          ]
        }
      ],
      "source": [
        "!pip3 install pyspark==3.0.0"
      ]
    },
    {
      "cell_type": "code",
      "execution_count": 20,
      "id": "7a81e7f8-c079-451d-9edf-b9763666a9c2",
      "metadata": {
        "id": "7a81e7f8-c079-451d-9edf-b9763666a9c2"
      },
      "outputs": [],
      "source": [
        "from pyspark import SparkContext, SparkConf\n",
        "from typing import NamedTuple\n",
        "from datetime import datetime\n",
        "from functools import reduce"
      ]
    },
    {
      "cell_type": "code",
      "source": [
        "conf = SparkConf().setAppName(\"lr1\").setMaster('local[1]')\n",
        "sc = SparkContext(conf=conf)"
      ],
      "metadata": {
        "id": "0u2vm2su0rH-"
      },
      "id": "0u2vm2su0rH-",
      "execution_count": null,
      "outputs": []
    },
    {
      "cell_type": "code",
      "execution_count": 22,
      "id": "90253152-5d9e-4739-85b5-21e77c37803e",
      "metadata": {
        "id": "90253152-5d9e-4739-85b5-21e77c37803e"
      },
      "outputs": [],
      "source": [
        "def initTrip(trips):\n",
        "    class Trip(NamedTuple):\n",
        "        trip_id: int\n",
        "        duration: int\n",
        "        start_date: datetime\n",
        "        start_station_name: str\n",
        "        start_station_id: int\n",
        "        end_date: datetime\n",
        "        end_station_name: str\n",
        "        end_station_id: int\n",
        "        bike_id: int\n",
        "        subscription_type: str\n",
        "        zip_code: str\n",
        "\n",
        "    for trip in trips:\n",
        "        yield Trip(\n",
        "             trip_id = int(trip[0]),\n",
        "             duration = int(trip[1]),\n",
        "             start_date = datetime.strptime(trip[2], '%m/%d/%Y %H:%M'),\n",
        "             start_station_name = trip[3],\n",
        "             start_station_id = int(trip[4]),\n",
        "             end_date = datetime.strptime(trip[5], '%m/%d/%Y %H:%M'),\n",
        "             end_station_name = trip[6],\n",
        "             end_station_id = trip[7],\n",
        "             bike_id = int(trip[8]),\n",
        "             subscription_type = trip[9],\n",
        "             zip_code = trip[10]\n",
        "            )\n",
        "\n",
        "def initStat(stat):\n",
        "    class Station(NamedTuple):\n",
        "        station_id: int\n",
        "        name: str\n",
        "        lat: float\n",
        "        long: float\n",
        "        dockcount: int\n",
        "        landmark: str\n",
        "        installation: str\n",
        "\n",
        "    for station in stat:\n",
        "        yield Station(\n",
        "            station_id = int(station[0]),\n",
        "            name = station[1],\n",
        "            lat = float(station[2]),\n",
        "            long = float(station[3]),\n",
        "            dockcount = int(station[4]),\n",
        "            landmark = station[5],\n",
        "            installation = datetime.strptime(station[6], '%m/%d/%Y')\n",
        "        )"
      ]
    },
    {
      "cell_type": "code",
      "source": [
        "def get_header(data):\n",
        "    head = data.first()\n",
        "    table_data = data.filter(lambda row: row != head).map(lambda row: row.split(\",\"))\n",
        "    return table_data"
      ],
      "metadata": {
        "id": "yeYRvaVL3VU3"
      },
      "id": "yeYRvaVL3VU3",
      "execution_count": 23,
      "outputs": []
    },
    {
      "cell_type": "code",
      "execution_count": 24,
      "id": "f7d74936-afda-4380-979b-bb1ba3468b55",
      "metadata": {
        "id": "f7d74936-afda-4380-979b-bb1ba3468b55"
      },
      "outputs": [],
      "source": [
        "trips = get_header(sc.textFile(\"trip.csv\"))\n",
        "stations = get_header(sc.textFile(\"station.csv\"))"
      ]
    },
    {
      "cell_type": "code",
      "execution_count": 25,
      "id": "8ffc4838-df68-4a5f-bb12-017ae46923ca",
      "metadata": {
        "id": "8ffc4838-df68-4a5f-bb12-017ae46923ca"
      },
      "outputs": [],
      "source": [
        "stations_mapped = stations.mapPartitions(initStat)\n",
        "trips_mapped= trips.mapPartitions(initTrip)"
      ]
    },
    {
      "cell_type": "markdown",
      "id": "ce9a15b7-54b8-46b2-ab03-4d0cdddf6b32",
      "metadata": {
        "id": "ce9a15b7-54b8-46b2-ab03-4d0cdddf6b32"
      },
      "source": [
        "# 1. Найти велосипед с максимальным временем пробега."
      ]
    },
    {
      "cell_type": "code",
      "execution_count": 26,
      "id": "39537d49-5256-4e75-8f16-ae615b5df9cb",
      "metadata": {
        "colab": {
          "base_uri": "https://localhost:8080/"
        },
        "id": "39537d49-5256-4e75-8f16-ae615b5df9cb",
        "outputId": "85c12380-6cca-40ec-db0a-6e050a392e5d"
      },
      "outputs": [
        {
          "output_type": "execute_result",
          "data": {
            "text/plain": [
              "[(535, 18611693)]"
            ]
          },
          "metadata": {},
          "execution_count": 26
        }
      ],
      "source": [
        "bike_duration_max = trips_mapped.keyBy(lambda row: row.bike_id)\\\n",
        "                                .mapValues(lambda row: row.duration).reduceByKey(lambda a, b: a + b)\\\n",
        "                                .top(1, key=lambda x: x[1])\n",
        "bike_duration_max"
      ]
    },
    {
      "cell_type": "markdown",
      "id": "b5ec529e-001c-4d0a-91fb-ba2e716af795",
      "metadata": {
        "id": "b5ec529e-001c-4d0a-91fb-ba2e716af795"
      },
      "source": [
        "# 2. Найти наибольшее геодезическое расстояние между станциями."
      ]
    },
    {
      "cell_type": "code",
      "execution_count": 27,
      "id": "2160a6d4-c631-4e1e-8b94-2105e685a6a3",
      "metadata": {
        "colab": {
          "base_uri": "https://localhost:8080/"
        },
        "id": "2160a6d4-c631-4e1e-8b94-2105e685a6a3",
        "outputId": "8e613803-07de-40ac-bba2-1905b0044617"
      },
      "outputs": [
        {
          "output_type": "execute_result",
          "data": {
            "text/plain": [
              "229914.0"
            ]
          },
          "metadata": {},
          "execution_count": 27
        }
      ],
      "source": [
        "trips_stations = trips_mapped.filter(lambda trip: str(trip.start_station_id) != str(trip.end_station_id))\\\n",
        "                             .keyBy(lambda trip: (str(trip.start_station_id), str(trip.end_station_id)))\\\n",
        "                             .mapValues(lambda trip: trip.duration)\n",
        "\n",
        "query = trips_stations.aggregateByKey((0, 0),\n",
        "                                      lambda a, b: (a[0] + b, a[1] + 1),\n",
        "                                      lambda a, b: (a[0] + b[0], a[1] + b[1]),)\\\n",
        "                      .mapValues(lambda values: values[0] / values[1])\n",
        "\n",
        "query.map(lambda x: x[::-1]).top(1)[0][0]"
      ]
    },
    {
      "cell_type": "markdown",
      "id": "8ba08211-a70d-4621-a998-944b847fb752",
      "metadata": {
        "id": "8ba08211-a70d-4621-a998-944b847fb752"
      },
      "source": [
        "# 3. Найти путь велосипеда с максимальным временем пробега через станции."
      ]
    },
    {
      "cell_type": "code",
      "execution_count": 28,
      "id": "9de4d182-e93b-463d-8c6b-7d6858f3773d",
      "metadata": {
        "colab": {
          "base_uri": "https://localhost:8080/"
        },
        "id": "9de4d182-e93b-463d-8c6b-7d6858f3773d",
        "outputId": "5a47bde3-df05-4511-e786-93520baa78d3"
      },
      "outputs": [
        {
          "output_type": "execute_result",
          "data": {
            "text/plain": [
              "('Post at Kearney', 'San Francisco Caltrain (Townsend at 4th)')"
            ]
          },
          "metadata": {},
          "execution_count": 28
        }
      ],
      "source": [
        "bike_path = trips_mapped.filter(lambda x: x.bike_id == bike_duration_max[0][0])\\\n",
        "                        .sortBy(lambda x: x.start_date)\\\n",
        "                        .map(lambda x: (x.start_station_name, x.end_station_name))\n",
        "\n",
        "bike_path.first()"
      ]
    },
    {
      "cell_type": "markdown",
      "id": "515f70f0-0b35-4e17-a682-330d9c3bf154",
      "metadata": {
        "tags": [],
        "id": "515f70f0-0b35-4e17-a682-330d9c3bf154"
      },
      "source": [
        "# 4. Найти количество велосипедов в системе."
      ]
    },
    {
      "cell_type": "code",
      "execution_count": 29,
      "id": "3be03487-4ea9-4b9d-98dd-be6567dae828",
      "metadata": {
        "colab": {
          "base_uri": "https://localhost:8080/"
        },
        "id": "3be03487-4ea9-4b9d-98dd-be6567dae828",
        "outputId": "67793a5d-5fcf-4800-95d6-9c03935b21a7"
      },
      "outputs": [
        {
          "output_type": "execute_result",
          "data": {
            "text/plain": [
              "700"
            ]
          },
          "metadata": {},
          "execution_count": 29
        }
      ],
      "source": [
        "count = trips_mapped.map(lambda x: x.bike_id).distinct().count()\n",
        "count"
      ]
    },
    {
      "cell_type": "markdown",
      "id": "1e8d99a9-4e08-4177-9a92-52154cebdc3f",
      "metadata": {
        "id": "1e8d99a9-4e08-4177-9a92-52154cebdc3f"
      },
      "source": [
        "# 5. Найти пользователей потративших на поездки более 3 часов."
      ]
    },
    {
      "cell_type": "code",
      "execution_count": 30,
      "id": "8ae802fb-774d-4ef4-8553-7a8a0f72d441",
      "metadata": {
        "colab": {
          "base_uri": "https://localhost:8080/"
        },
        "id": "8ae802fb-774d-4ef4-8553-7a8a0f72d441",
        "outputId": "fa8b7cc8-ab7b-49db-b142-01d3cf37de19"
      },
      "outputs": [
        {
          "output_type": "execute_result",
          "data": {
            "text/plain": [
              "PythonRDD[72] at RDD at PythonRDD.scala:53"
            ]
          },
          "metadata": {},
          "execution_count": 30
        }
      ],
      "source": [
        "users = trips_mapped.filter(lambda x: x.duration > (10800))\\\n",
        "                    .map(lambda x: x.zip_code)\\\n",
        "                    .filter(lambda x: x != \"\")\\\n",
        "                    .distinct()\n",
        "users"
      ]
    }
  ],
  "metadata": {
    "kernelspec": {
      "display_name": "Python 3",
      "language": "python",
      "name": "python3"
    },
    "language_info": {
      "codemirror_mode": {
        "name": "ipython",
        "version": 3
      },
      "file_extension": ".py",
      "mimetype": "text/x-python",
      "name": "python",
      "nbconvert_exporter": "python",
      "pygments_lexer": "ipython3",
      "version": "3.6.9"
    },
    "colab": {
      "provenance": []
    }
  },
  "nbformat": 4,
  "nbformat_minor": 5
}